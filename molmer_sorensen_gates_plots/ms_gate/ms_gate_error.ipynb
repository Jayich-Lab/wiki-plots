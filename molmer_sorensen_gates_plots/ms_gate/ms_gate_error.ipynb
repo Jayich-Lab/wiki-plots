{
 "cells": [
  {
   "cell_type": "code",
   "execution_count": 5,
   "metadata": {},
   "outputs": [],
   "source": [
    "import numpy as _np\n",
    "import matplotlib.pyplot as _plt\n",
    "from scipy.integrate import quad as integrate"
   ]
  },
  {
   "cell_type": "code",
   "execution_count": 3,
   "metadata": {},
   "outputs": [],
   "source": [
    "delta_g=2*_np.pi*50e3\n",
    "eta=0.12\n",
    "phi_diff=0\n",
    "nbar=0"
   ]
  },
  {
   "cell_type": "code",
   "execution_count": 18,
   "metadata": {},
   "outputs": [],
   "source": [
    "def omega_m(K):\n",
    "    \"Please refer to eq.4.39 in sepiol thesis. K is the loops of the gate\"\n",
    "    return delta_g/(2*_np.sqrt(K))\n",
    "\n",
    "def fidelity(omega,K):\n",
    "    \"\"\"Please refer to eq. (4.54) in sepiol thesis\"\"\"\n",
    "    fidelity = 1/2 + 1/2*_np.sin(2*_np.pi*K*(omega/delta_g)**2)\n",
    "    return fidelity\n",
    "\n",
    "def expected_F(sigma, K):\n",
    "    def pmf(omega):\n",
    "        normalization = 1/(sigma*_np.sqrt(2*_np.pi))\n",
    "        deviation = ((omega-omega_m(K))/sigma)**2\n",
    "        return normalization * _np.exp(-1/2*deviation)\n",
    "    def integrand(omega):\n",
    "        return fidelity(omega, K)*pmf(omega)\n",
    "    return integrate(integrand, -_np.inf, _np.inf)[0]\n",
    "    "
   ]
  },
  {
   "cell_type": "code",
   "execution_count": 25,
   "metadata": {},
   "outputs": [
    {
     "data": {
      "text/plain": [
       "[<matplotlib.lines.Line2D at 0x20a30179cf8>]"
      ]
     },
     "execution_count": 25,
     "metadata": {},
     "output_type": "execute_result"
    },
    {
     "data": {
      "image/png": "[encoded data removed]",
      "text/plain": [
       "<Figure size 432x288 with 1 Axes>"
      ]
     },
     "metadata": {},
     "output_type": "display_data"
    }
   ],
   "source": [
    "k=1\n",
    "stds1 = _np.logspace(-3, 0)\n",
    "fs1 = [expected_F(omega_m(1)*std, k) for std in stds1]\n",
    "\n",
    "_plt.plot(stds1, 1-_np.asarray(fs1))\n",
    "#_plt.loglog()"
   ]
  },
  {
   "cell_type": "code",
   "execution_count": 16,
   "metadata": {},
   "outputs": [
    {
     "data": {
      "text/plain": [
       "(50, 2)"
      ]
     },
     "execution_count": 16,
     "metadata": {},
     "output_type": "execute_result"
    }
   ],
   "source": [
    "_np.shape(fs1)"
   ]
  },
  {
   "cell_type": "code",
   "execution_count": 17,
   "metadata": {},
   "outputs": [
    {
     "data": {
      "text/plain": [
       "(0.0, 0.0)"
      ]
     },
     "execution_count": 17,
     "metadata": {},
     "output_type": "execute_result"
    }
   ],
   "source": [
    "expected_F(omega_m(1)*stds1[0], k)"
   ]
  },
  {
   "cell_type": "code",
   "execution_count": null,
   "metadata": {},
   "outputs": [],
   "source": []
  }
 ],
 "metadata": {
  "kernelspec": {
   "display_name": "Python 3",
   "language": "python",
   "name": "python3"
  },
  "language_info": {
   "codemirror_mode": {
    "name": "ipython",
    "version": 3
   },
   "file_extension": ".py",
   "mimetype": "text/x-python",
   "name": "python",
   "nbconvert_exporter": "python",
   "pygments_lexer": "ipython3",
   "version": "3.6.10"
  }
 },
 "nbformat": 4,
 "nbformat_minor": 2
}
