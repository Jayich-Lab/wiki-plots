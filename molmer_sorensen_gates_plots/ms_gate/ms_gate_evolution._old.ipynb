{
 "cells": [
  {
   "cell_type": "markdown",
   "metadata": {},
   "source": [
    "this notebook is trying to model the evolution prescribed in kirchmair2009, secifically looking at eqn 4"
   ]
  },
  {
   "cell_type": "code",
   "execution_count": 1,
   "metadata": {},
   "outputs": [],
   "source": [
    "import matplotlib.pyplot as _plt\n",
    "import numpy as _np\n",
    "import scipy.linalg"
   ]
  },
  {
   "cell_type": "code",
   "execution_count": 51,
   "metadata": {},
   "outputs": [],
   "source": [
    "eta = 1/20 #this is the lamb dicke parameter\n",
    "frabi = 1/15*2*_np.pi #this the the angular rabi_frequency in MHz (with timein us)\n",
    "epsilon = 0.1*2*_np.pi #this is how far the laser is detuned from the sidebands\n",
    "t_gate = 2*_np.pi/_np.absolute(epsilon)"
   ]
  },
  {
   "cell_type": "markdown",
   "metadata": {},
   "source": [
    "the ordering of states is as follows:\n",
    "\n",
    "the first two states are ion 1 in gnd state, second 2 are ion 1 in d5/2\n",
    "\n",
    "1s/3rd are 2nd ion in gnd state, 2nd/4th are ion 2 in d5/2\n",
    "\n",
    "    1st 4 are both in n-1th motional state     1 - 4\n",
    "\n",
    "    2nd 4 are ion 1 n-1 phonons, ion2 n        5 - 8\n",
    "\n",
    "    3rd 4 are ion 1 n-1, ion2 n+1              9 -12\n",
    "\n",
    "    4th are ion1 n, ion2 n-1                   13-16\n",
    "\n",
    "            ion1 n, ion2 n                     17-20\n",
    "        \n",
    "            ion1 n, ion2 n+1                  21-24\n",
    "        \n",
    "            ion1 n+1, ion2 n -1               25-28\n",
    "        \n",
    "            ion1 n+1, ion2 n                  29-32\n",
    "        \n",
    "            ion1 n+1, ion2 n+1                33-36"
   ]
  },
  {
   "cell_type": "code",
   "execution_count": 3,
   "metadata": {},
   "outputs": [
    {
     "name": "stdout",
     "output_type": "stream",
     "text": [
      "0 1 0 0 1 0\n",
      "1 2 0 0 2 1\n",
      "3 4 1 1 1 0\n",
      "4 5 1 1 2 1\n",
      "6 7 2 2 1 0\n",
      "7 8 2 2 2 1\n"
     ]
    }
   ],
   "source": [
    "n=1\n",
    "#              [ 1, 2,            3, 4, 5, 6, 7, 8, 9 ]\n",
    "smalllowering = _np.zeros((9,9), dtype=_np.complex_)\n",
    "for jj in range(9):\n",
    "    for kk in range(9):\n",
    "        #determine phonon numbers in each ion before and after operator\n",
    "        n1o=int(kk/3)\n",
    "        n1f=int(jj/3)\n",
    "        n2o=kk%3\n",
    "        n2f=jj%3\n",
    "        if n1o==n1f and n2o-1==n2f:\n",
    "            print(jj, kk, n1o, n1f, n2o, n2f)\n",
    "            smalllowering[jj][kk]=_np.sqrt(n2o)\n",
    "        if n2o==n2f and n1o-1==n1f:\n",
    "            smalllowering[jj][kk]=_np.sqrt(n1o)\n",
    "smallraising = _np.transpose(smalllowering)\n",
    "lowering = _np.zeros((36,36), dtype=_np.complex_)\n",
    "ahat = lowering\n",
    "for jj in range(36):\n",
    "    for kk in range(36):\n",
    "        lowering[jj][kk]=smalllowering[int(jj/4)][int(kk/4)]\n",
    "raising = lowering.conj().T"
   ]
  },
  {
   "cell_type": "code",
   "execution_count": 4,
   "metadata": {},
   "outputs": [
    {
     "data": {
      "text/plain": [
       "array([[0.        +0.j, 1.        +0.j, 0.        +0.j, 1.        +0.j,\n",
       "        0.        +0.j, 0.        +0.j, 0.        +0.j, 0.        +0.j,\n",
       "        0.        +0.j],\n",
       "       [0.        +0.j, 0.        +0.j, 1.41421356+0.j, 0.        +0.j,\n",
       "        1.        +0.j, 0.        +0.j, 0.        +0.j, 0.        +0.j,\n",
       "        0.        +0.j],\n",
       "       [0.        +0.j, 0.        +0.j, 0.        +0.j, 0.        +0.j,\n",
       "        0.        +0.j, 1.        +0.j, 0.        +0.j, 0.        +0.j,\n",
       "        0.        +0.j],\n",
       "       [0.        +0.j, 0.        +0.j, 0.        +0.j, 0.        +0.j,\n",
       "        1.        +0.j, 0.        +0.j, 1.41421356+0.j, 0.        +0.j,\n",
       "        0.        +0.j],\n",
       "       [0.        +0.j, 0.        +0.j, 0.        +0.j, 0.        +0.j,\n",
       "        0.        +0.j, 1.41421356+0.j, 0.        +0.j, 1.41421356+0.j,\n",
       "        0.        +0.j],\n",
       "       [0.        +0.j, 0.        +0.j, 0.        +0.j, 0.        +0.j,\n",
       "        0.        +0.j, 0.        +0.j, 0.        +0.j, 0.        +0.j,\n",
       "        1.41421356+0.j],\n",
       "       [0.        +0.j, 0.        +0.j, 0.        +0.j, 0.        +0.j,\n",
       "        0.        +0.j, 0.        +0.j, 0.        +0.j, 1.        +0.j,\n",
       "        0.        +0.j],\n",
       "       [0.        +0.j, 0.        +0.j, 0.        +0.j, 0.        +0.j,\n",
       "        0.        +0.j, 0.        +0.j, 0.        +0.j, 0.        +0.j,\n",
       "        1.41421356+0.j],\n",
       "       [0.        +0.j, 0.        +0.j, 0.        +0.j, 0.        +0.j,\n",
       "        0.        +0.j, 0.        +0.j, 0.        +0.j, 0.        +0.j,\n",
       "        0.        +0.j]])"
      ]
     },
     "execution_count": 4,
     "metadata": {},
     "output_type": "execute_result"
    }
   ],
   "source": [
    "smalllowering"
   ]
  },
  {
   "cell_type": "code",
   "execution_count": 5,
   "metadata": {
    "scrolled": true
   },
   "outputs": [
    {
     "name": "stdout",
     "output_type": "stream",
     "text": [
      "[0.+0.j 0.+0.j 0.+0.j 0.+0.j 1.+0.j 1.+0.j 1.+0.j 1.+0.j 0.+0.j 0.+0.j\n",
      " 0.+0.j 0.+0.j 1.+0.j 1.+0.j 1.+0.j 1.+0.j 0.+0.j 0.+0.j 0.+0.j 0.+0.j\n",
      " 0.+0.j 0.+0.j 0.+0.j 0.+0.j 0.+0.j 0.+0.j 0.+0.j 0.+0.j 0.+0.j 0.+0.j\n",
      " 0.+0.j 0.+0.j 0.+0.j 0.+0.j 0.+0.j 0.+0.j]\n",
      "[0.+0.j 0.+0.j 0.+0.j 0.+0.j 1.+0.j 1.+0.j 1.+0.j 1.+0.j 0.+0.j 0.+0.j\n",
      " 0.+0.j 0.+0.j 1.+0.j 1.+0.j 1.+0.j 1.+0.j 0.+0.j 0.+0.j 0.+0.j 0.+0.j\n",
      " 0.+0.j 0.+0.j 0.+0.j 0.+0.j 0.+0.j 0.+0.j 0.+0.j 0.+0.j 0.+0.j 0.+0.j\n",
      " 0.+0.j 0.+0.j 0.+0.j 0.+0.j 0.+0.j 0.+0.j]\n",
      "[0.+0.j 0.+0.j 0.+0.j 0.+0.j 1.+0.j 1.+0.j 1.+0.j 1.+0.j 0.+0.j 0.+0.j\n",
      " 0.+0.j 0.+0.j 1.+0.j 1.+0.j 1.+0.j 1.+0.j 0.+0.j 0.+0.j 0.+0.j 0.+0.j\n",
      " 0.+0.j 0.+0.j 0.+0.j 0.+0.j 0.+0.j 0.+0.j 0.+0.j 0.+0.j 0.+0.j 0.+0.j\n",
      " 0.+0.j 0.+0.j 0.+0.j 0.+0.j 0.+0.j 0.+0.j]\n",
      "[0.+0.j 0.+0.j 0.+0.j 0.+0.j 1.+0.j 1.+0.j 1.+0.j 1.+0.j 0.+0.j 0.+0.j\n",
      " 0.+0.j 0.+0.j 1.+0.j 1.+0.j 1.+0.j 1.+0.j 0.+0.j 0.+0.j 0.+0.j 0.+0.j\n",
      " 0.+0.j 0.+0.j 0.+0.j 0.+0.j 0.+0.j 0.+0.j 0.+0.j 0.+0.j 0.+0.j 0.+0.j\n",
      " 0.+0.j 0.+0.j 0.+0.j 0.+0.j 0.+0.j 0.+0.j]\n",
      "[0.        +0.j 0.        +0.j 0.        +0.j 0.        +0.j\n",
      " 0.        +0.j 0.        +0.j 0.        +0.j 0.        +0.j\n",
      " 1.41421356+0.j 1.41421356+0.j 1.41421356+0.j 1.41421356+0.j\n",
      " 0.        +0.j 0.        +0.j 0.        +0.j 0.        +0.j\n",
      " 1.        +0.j 1.        +0.j 1.        +0.j 1.        +0.j\n",
      " 0.        +0.j 0.        +0.j 0.        +0.j 0.        +0.j\n",
      " 0.        +0.j 0.        +0.j 0.        +0.j 0.        +0.j\n",
      " 0.        +0.j 0.        +0.j 0.        +0.j 0.        +0.j\n",
      " 0.        +0.j 0.        +0.j 0.        +0.j 0.        +0.j]\n",
      "[0.        +0.j 0.        +0.j 0.        +0.j 0.        +0.j\n",
      " 0.        +0.j 0.        +0.j 0.        +0.j 0.        +0.j\n",
      " 1.41421356+0.j 1.41421356+0.j 1.41421356+0.j 1.41421356+0.j\n",
      " 0.        +0.j 0.        +0.j 0.        +0.j 0.        +0.j\n",
      " 1.        +0.j 1.        +0.j 1.        +0.j 1.        +0.j\n",
      " 0.        +0.j 0.        +0.j 0.        +0.j 0.        +0.j\n",
      " 0.        +0.j 0.        +0.j 0.        +0.j 0.        +0.j\n",
      " 0.        +0.j 0.        +0.j 0.        +0.j 0.        +0.j\n",
      " 0.        +0.j 0.        +0.j 0.        +0.j 0.        +0.j]\n",
      "[0.        +0.j 0.        +0.j 0.        +0.j 0.        +0.j\n",
      " 0.        +0.j 0.        +0.j 0.        +0.j 0.        +0.j\n",
      " 1.41421356+0.j 1.41421356+0.j 1.41421356+0.j 1.41421356+0.j\n",
      " 0.        +0.j 0.        +0.j 0.        +0.j 0.        +0.j\n",
      " 1.        +0.j 1.        +0.j 1.        +0.j 1.        +0.j\n",
      " 0.        +0.j 0.        +0.j 0.        +0.j 0.        +0.j\n",
      " 0.        +0.j 0.        +0.j 0.        +0.j 0.        +0.j\n",
      " 0.        +0.j 0.        +0.j 0.        +0.j 0.        +0.j\n",
      " 0.        +0.j 0.        +0.j 0.        +0.j 0.        +0.j]\n",
      "[0.        +0.j 0.        +0.j 0.        +0.j 0.        +0.j\n",
      " 0.        +0.j 0.        +0.j 0.        +0.j 0.        +0.j\n",
      " 1.41421356+0.j 1.41421356+0.j 1.41421356+0.j 1.41421356+0.j\n",
      " 0.        +0.j 0.        +0.j 0.        +0.j 0.        +0.j\n",
      " 1.        +0.j 1.        +0.j 1.        +0.j 1.        +0.j\n",
      " 0.        +0.j 0.        +0.j 0.        +0.j 0.        +0.j\n",
      " 0.        +0.j 0.        +0.j 0.        +0.j 0.        +0.j\n",
      " 0.        +0.j 0.        +0.j 0.        +0.j 0.        +0.j\n",
      " 0.        +0.j 0.        +0.j 0.        +0.j 0.        +0.j]\n",
      "[0.+0.j 0.+0.j 0.+0.j 0.+0.j 0.+0.j 0.+0.j 0.+0.j 0.+0.j 0.+0.j 0.+0.j\n",
      " 0.+0.j 0.+0.j 0.+0.j 0.+0.j 0.+0.j 0.+0.j 0.+0.j 0.+0.j 0.+0.j 0.+0.j\n",
      " 1.+0.j 1.+0.j 1.+0.j 1.+0.j 0.+0.j 0.+0.j 0.+0.j 0.+0.j 0.+0.j 0.+0.j\n",
      " 0.+0.j 0.+0.j 0.+0.j 0.+0.j 0.+0.j 0.+0.j]\n",
      "[0.+0.j 0.+0.j 0.+0.j 0.+0.j 0.+0.j 0.+0.j 0.+0.j 0.+0.j 0.+0.j 0.+0.j\n",
      " 0.+0.j 0.+0.j 0.+0.j 0.+0.j 0.+0.j 0.+0.j 0.+0.j 0.+0.j 0.+0.j 0.+0.j\n",
      " 1.+0.j 1.+0.j 1.+0.j 1.+0.j 0.+0.j 0.+0.j 0.+0.j 0.+0.j 0.+0.j 0.+0.j\n",
      " 0.+0.j 0.+0.j 0.+0.j 0.+0.j 0.+0.j 0.+0.j]\n",
      "[0.+0.j 0.+0.j 0.+0.j 0.+0.j 0.+0.j 0.+0.j 0.+0.j 0.+0.j 0.+0.j 0.+0.j\n",
      " 0.+0.j 0.+0.j 0.+0.j 0.+0.j 0.+0.j 0.+0.j 0.+0.j 0.+0.j 0.+0.j 0.+0.j\n",
      " 1.+0.j 1.+0.j 1.+0.j 1.+0.j 0.+0.j 0.+0.j 0.+0.j 0.+0.j 0.+0.j 0.+0.j\n",
      " 0.+0.j 0.+0.j 0.+0.j 0.+0.j 0.+0.j 0.+0.j]\n",
      "[0.+0.j 0.+0.j 0.+0.j 0.+0.j 0.+0.j 0.+0.j 0.+0.j 0.+0.j 0.+0.j 0.+0.j\n",
      " 0.+0.j 0.+0.j 0.+0.j 0.+0.j 0.+0.j 0.+0.j 0.+0.j 0.+0.j 0.+0.j 0.+0.j\n",
      " 1.+0.j 1.+0.j 1.+0.j 1.+0.j 0.+0.j 0.+0.j 0.+0.j 0.+0.j 0.+0.j 0.+0.j\n",
      " 0.+0.j 0.+0.j 0.+0.j 0.+0.j 0.+0.j 0.+0.j]\n",
      "[0.        +0.j 0.        +0.j 0.        +0.j 0.        +0.j\n",
      " 0.        +0.j 0.        +0.j 0.        +0.j 0.        +0.j\n",
      " 0.        +0.j 0.        +0.j 0.        +0.j 0.        +0.j\n",
      " 0.        +0.j 0.        +0.j 0.        +0.j 0.        +0.j\n",
      " 1.        +0.j 1.        +0.j 1.        +0.j 1.        +0.j\n",
      " 0.        +0.j 0.        +0.j 0.        +0.j 0.        +0.j\n",
      " 1.41421356+0.j 1.41421356+0.j 1.41421356+0.j 1.41421356+0.j\n",
      " 0.        +0.j 0.        +0.j 0.        +0.j 0.        +0.j\n",
      " 0.        +0.j 0.        +0.j 0.        +0.j 0.        +0.j]\n",
      "[0.        +0.j 0.        +0.j 0.        +0.j 0.        +0.j\n",
      " 0.        +0.j 0.        +0.j 0.        +0.j 0.        +0.j\n",
      " 0.        +0.j 0.        +0.j 0.        +0.j 0.        +0.j\n",
      " 0.        +0.j 0.        +0.j 0.        +0.j 0.        +0.j\n",
      " 1.        +0.j 1.        +0.j 1.        +0.j 1.        +0.j\n",
      " 0.        +0.j 0.        +0.j 0.        +0.j 0.        +0.j\n",
      " 1.41421356+0.j 1.41421356+0.j 1.41421356+0.j 1.41421356+0.j\n",
      " 0.        +0.j 0.        +0.j 0.        +0.j 0.        +0.j\n",
      " 0.        +0.j 0.        +0.j 0.        +0.j 0.        +0.j]\n",
      "[0.        +0.j 0.        +0.j 0.        +0.j 0.        +0.j\n",
      " 0.        +0.j 0.        +0.j 0.        +0.j 0.        +0.j\n",
      " 0.        +0.j 0.        +0.j 0.        +0.j 0.        +0.j\n",
      " 0.        +0.j 0.        +0.j 0.        +0.j 0.        +0.j\n",
      " 1.        +0.j 1.        +0.j 1.        +0.j 1.        +0.j\n",
      " 0.        +0.j 0.        +0.j 0.        +0.j 0.        +0.j\n",
      " 1.41421356+0.j 1.41421356+0.j 1.41421356+0.j 1.41421356+0.j\n",
      " 0.        +0.j 0.        +0.j 0.        +0.j 0.        +0.j\n",
      " 0.        +0.j 0.        +0.j 0.        +0.j 0.        +0.j]\n",
      "[0.        +0.j 0.        +0.j 0.        +0.j 0.        +0.j\n",
      " 0.        +0.j 0.        +0.j 0.        +0.j 0.        +0.j\n",
      " 0.        +0.j 0.        +0.j 0.        +0.j 0.        +0.j\n",
      " 0.        +0.j 0.        +0.j 0.        +0.j 0.        +0.j\n",
      " 1.        +0.j 1.        +0.j 1.        +0.j 1.        +0.j\n",
      " 0.        +0.j 0.        +0.j 0.        +0.j 0.        +0.j\n",
      " 1.41421356+0.j 1.41421356+0.j 1.41421356+0.j 1.41421356+0.j\n",
      " 0.        +0.j 0.        +0.j 0.        +0.j 0.        +0.j\n",
      " 0.        +0.j 0.        +0.j 0.        +0.j 0.        +0.j]\n",
      "[0.        +0.j 0.        +0.j 0.        +0.j 0.        +0.j\n",
      " 0.        +0.j 0.        +0.j 0.        +0.j 0.        +0.j\n",
      " 0.        +0.j 0.        +0.j 0.        +0.j 0.        +0.j\n",
      " 0.        +0.j 0.        +0.j 0.        +0.j 0.        +0.j\n",
      " 0.        +0.j 0.        +0.j 0.        +0.j 0.        +0.j\n",
      " 1.41421356+0.j 1.41421356+0.j 1.41421356+0.j 1.41421356+0.j\n",
      " 0.        +0.j 0.        +0.j 0.        +0.j 0.        +0.j\n",
      " 1.41421356+0.j 1.41421356+0.j 1.41421356+0.j 1.41421356+0.j\n",
      " 0.        +0.j 0.        +0.j 0.        +0.j 0.        +0.j]\n",
      "[0.        +0.j 0.        +0.j 0.        +0.j 0.        +0.j\n",
      " 0.        +0.j 0.        +0.j 0.        +0.j 0.        +0.j\n",
      " 0.        +0.j 0.        +0.j 0.        +0.j 0.        +0.j\n",
      " 0.        +0.j 0.        +0.j 0.        +0.j 0.        +0.j\n",
      " 0.        +0.j 0.        +0.j 0.        +0.j 0.        +0.j\n",
      " 1.41421356+0.j 1.41421356+0.j 1.41421356+0.j 1.41421356+0.j\n",
      " 0.        +0.j 0.        +0.j 0.        +0.j 0.        +0.j\n",
      " 1.41421356+0.j 1.41421356+0.j 1.41421356+0.j 1.41421356+0.j\n",
      " 0.        +0.j 0.        +0.j 0.        +0.j 0.        +0.j]\n",
      "[0.        +0.j 0.        +0.j 0.        +0.j 0.        +0.j\n",
      " 0.        +0.j 0.        +0.j 0.        +0.j 0.        +0.j\n",
      " 0.        +0.j 0.        +0.j 0.        +0.j 0.        +0.j\n",
      " 0.        +0.j 0.        +0.j 0.        +0.j 0.        +0.j\n",
      " 0.        +0.j 0.        +0.j 0.        +0.j 0.        +0.j\n",
      " 1.41421356+0.j 1.41421356+0.j 1.41421356+0.j 1.41421356+0.j\n",
      " 0.        +0.j 0.        +0.j 0.        +0.j 0.        +0.j\n",
      " 1.41421356+0.j 1.41421356+0.j 1.41421356+0.j 1.41421356+0.j\n",
      " 0.        +0.j 0.        +0.j 0.        +0.j 0.        +0.j]\n",
      "[0.        +0.j 0.        +0.j 0.        +0.j 0.        +0.j\n",
      " 0.        +0.j 0.        +0.j 0.        +0.j 0.        +0.j\n",
      " 0.        +0.j 0.        +0.j 0.        +0.j 0.        +0.j\n",
      " 0.        +0.j 0.        +0.j 0.        +0.j 0.        +0.j\n",
      " 0.        +0.j 0.        +0.j 0.        +0.j 0.        +0.j\n",
      " 1.41421356+0.j 1.41421356+0.j 1.41421356+0.j 1.41421356+0.j\n",
      " 0.        +0.j 0.        +0.j 0.        +0.j 0.        +0.j\n",
      " 1.41421356+0.j 1.41421356+0.j 1.41421356+0.j 1.41421356+0.j\n",
      " 0.        +0.j 0.        +0.j 0.        +0.j 0.        +0.j]\n",
      "[0.        +0.j 0.        +0.j 0.        +0.j 0.        +0.j\n",
      " 0.        +0.j 0.        +0.j 0.        +0.j 0.        +0.j\n",
      " 0.        +0.j 0.        +0.j 0.        +0.j 0.        +0.j\n",
      " 0.        +0.j 0.        +0.j 0.        +0.j 0.        +0.j\n",
      " 0.        +0.j 0.        +0.j 0.        +0.j 0.        +0.j\n",
      " 0.        +0.j 0.        +0.j 0.        +0.j 0.        +0.j\n",
      " 0.        +0.j 0.        +0.j 0.        +0.j 0.        +0.j\n",
      " 0.        +0.j 0.        +0.j 0.        +0.j 0.        +0.j\n",
      " 1.41421356+0.j 1.41421356+0.j 1.41421356+0.j 1.41421356+0.j]\n",
      "[0.        +0.j 0.        +0.j 0.        +0.j 0.        +0.j\n",
      " 0.        +0.j 0.        +0.j 0.        +0.j 0.        +0.j\n",
      " 0.        +0.j 0.        +0.j 0.        +0.j 0.        +0.j\n",
      " 0.        +0.j 0.        +0.j 0.        +0.j 0.        +0.j\n",
      " 0.        +0.j 0.        +0.j 0.        +0.j 0.        +0.j\n",
      " 0.        +0.j 0.        +0.j 0.        +0.j 0.        +0.j\n",
      " 0.        +0.j 0.        +0.j 0.        +0.j 0.        +0.j\n",
      " 0.        +0.j 0.        +0.j 0.        +0.j 0.        +0.j\n",
      " 1.41421356+0.j 1.41421356+0.j 1.41421356+0.j 1.41421356+0.j]\n",
      "[0.        +0.j 0.        +0.j 0.        +0.j 0.        +0.j\n",
      " 0.        +0.j 0.        +0.j 0.        +0.j 0.        +0.j\n",
      " 0.        +0.j 0.        +0.j 0.        +0.j 0.        +0.j\n",
      " 0.        +0.j 0.        +0.j 0.        +0.j 0.        +0.j\n",
      " 0.        +0.j 0.        +0.j 0.        +0.j 0.        +0.j\n",
      " 0.        +0.j 0.        +0.j 0.        +0.j 0.        +0.j\n",
      " 0.        +0.j 0.        +0.j 0.        +0.j 0.        +0.j\n",
      " 0.        +0.j 0.        +0.j 0.        +0.j 0.        +0.j\n",
      " 1.41421356+0.j 1.41421356+0.j 1.41421356+0.j 1.41421356+0.j]\n",
      "[0.        +0.j 0.        +0.j 0.        +0.j 0.        +0.j\n",
      " 0.        +0.j 0.        +0.j 0.        +0.j 0.        +0.j\n",
      " 0.        +0.j 0.        +0.j 0.        +0.j 0.        +0.j\n",
      " 0.        +0.j 0.        +0.j 0.        +0.j 0.        +0.j\n",
      " 0.        +0.j 0.        +0.j 0.        +0.j 0.        +0.j\n",
      " 0.        +0.j 0.        +0.j 0.        +0.j 0.        +0.j\n",
      " 0.        +0.j 0.        +0.j 0.        +0.j 0.        +0.j\n",
      " 0.        +0.j 0.        +0.j 0.        +0.j 0.        +0.j\n",
      " 1.41421356+0.j 1.41421356+0.j 1.41421356+0.j 1.41421356+0.j]\n",
      "[0.+0.j 0.+0.j 0.+0.j 0.+0.j 0.+0.j 0.+0.j 0.+0.j 0.+0.j 0.+0.j 0.+0.j\n",
      " 0.+0.j 0.+0.j 0.+0.j 0.+0.j 0.+0.j 0.+0.j 0.+0.j 0.+0.j 0.+0.j 0.+0.j\n",
      " 0.+0.j 0.+0.j 0.+0.j 0.+0.j 0.+0.j 0.+0.j 0.+0.j 0.+0.j 1.+0.j 1.+0.j\n",
      " 1.+0.j 1.+0.j 0.+0.j 0.+0.j 0.+0.j 0.+0.j]\n",
      "[0.+0.j 0.+0.j 0.+0.j 0.+0.j 0.+0.j 0.+0.j 0.+0.j 0.+0.j 0.+0.j 0.+0.j\n",
      " 0.+0.j 0.+0.j 0.+0.j 0.+0.j 0.+0.j 0.+0.j 0.+0.j 0.+0.j 0.+0.j 0.+0.j\n",
      " 0.+0.j 0.+0.j 0.+0.j 0.+0.j 0.+0.j 0.+0.j 0.+0.j 0.+0.j 1.+0.j 1.+0.j\n",
      " 1.+0.j 1.+0.j 0.+0.j 0.+0.j 0.+0.j 0.+0.j]\n",
      "[0.+0.j 0.+0.j 0.+0.j 0.+0.j 0.+0.j 0.+0.j 0.+0.j 0.+0.j 0.+0.j 0.+0.j\n",
      " 0.+0.j 0.+0.j 0.+0.j 0.+0.j 0.+0.j 0.+0.j 0.+0.j 0.+0.j 0.+0.j 0.+0.j\n",
      " 0.+0.j 0.+0.j 0.+0.j 0.+0.j 0.+0.j 0.+0.j 0.+0.j 0.+0.j 1.+0.j 1.+0.j\n",
      " 1.+0.j 1.+0.j 0.+0.j 0.+0.j 0.+0.j 0.+0.j]\n",
      "[0.+0.j 0.+0.j 0.+0.j 0.+0.j 0.+0.j 0.+0.j 0.+0.j 0.+0.j 0.+0.j 0.+0.j\n",
      " 0.+0.j 0.+0.j 0.+0.j 0.+0.j 0.+0.j 0.+0.j 0.+0.j 0.+0.j 0.+0.j 0.+0.j\n",
      " 0.+0.j 0.+0.j 0.+0.j 0.+0.j 0.+0.j 0.+0.j 0.+0.j 0.+0.j 1.+0.j 1.+0.j\n",
      " 1.+0.j 1.+0.j 0.+0.j 0.+0.j 0.+0.j 0.+0.j]\n",
      "[0.        +0.j 0.        +0.j 0.        +0.j 0.        +0.j\n",
      " 0.        +0.j 0.        +0.j 0.        +0.j 0.        +0.j\n",
      " 0.        +0.j 0.        +0.j 0.        +0.j 0.        +0.j\n",
      " 0.        +0.j 0.        +0.j 0.        +0.j 0.        +0.j\n",
      " 0.        +0.j 0.        +0.j 0.        +0.j 0.        +0.j\n",
      " 0.        +0.j 0.        +0.j 0.        +0.j 0.        +0.j\n",
      " 0.        +0.j 0.        +0.j 0.        +0.j 0.        +0.j\n",
      " 0.        +0.j 0.        +0.j 0.        +0.j 0.        +0.j\n",
      " 1.41421356+0.j 1.41421356+0.j 1.41421356+0.j 1.41421356+0.j]\n",
      "[0.        +0.j 0.        +0.j 0.        +0.j 0.        +0.j\n",
      " 0.        +0.j 0.        +0.j 0.        +0.j 0.        +0.j\n",
      " 0.        +0.j 0.        +0.j 0.        +0.j 0.        +0.j\n",
      " 0.        +0.j 0.        +0.j 0.        +0.j 0.        +0.j\n",
      " 0.        +0.j 0.        +0.j 0.        +0.j 0.        +0.j\n",
      " 0.        +0.j 0.        +0.j 0.        +0.j 0.        +0.j\n",
      " 0.        +0.j 0.        +0.j 0.        +0.j 0.        +0.j\n",
      " 0.        +0.j 0.        +0.j 0.        +0.j 0.        +0.j\n",
      " 1.41421356+0.j 1.41421356+0.j 1.41421356+0.j 1.41421356+0.j]\n",
      "[0.        +0.j 0.        +0.j 0.        +0.j 0.        +0.j\n",
      " 0.        +0.j 0.        +0.j 0.        +0.j 0.        +0.j\n",
      " 0.        +0.j 0.        +0.j 0.        +0.j 0.        +0.j\n",
      " 0.        +0.j 0.        +0.j 0.        +0.j 0.        +0.j\n",
      " 0.        +0.j 0.        +0.j 0.        +0.j 0.        +0.j\n",
      " 0.        +0.j 0.        +0.j 0.        +0.j 0.        +0.j\n",
      " 0.        +0.j 0.        +0.j 0.        +0.j 0.        +0.j\n",
      " 0.        +0.j 0.        +0.j 0.        +0.j 0.        +0.j\n",
      " 1.41421356+0.j 1.41421356+0.j 1.41421356+0.j 1.41421356+0.j]\n",
      "[0.        +0.j 0.        +0.j 0.        +0.j 0.        +0.j\n",
      " 0.        +0.j 0.        +0.j 0.        +0.j 0.        +0.j\n",
      " 0.        +0.j 0.        +0.j 0.        +0.j 0.        +0.j\n",
      " 0.        +0.j 0.        +0.j 0.        +0.j 0.        +0.j\n",
      " 0.        +0.j 0.        +0.j 0.        +0.j 0.        +0.j\n",
      " 0.        +0.j 0.        +0.j 0.        +0.j 0.        +0.j\n",
      " 0.        +0.j 0.        +0.j 0.        +0.j 0.        +0.j\n",
      " 0.        +0.j 0.        +0.j 0.        +0.j 0.        +0.j\n",
      " 1.41421356+0.j 1.41421356+0.j 1.41421356+0.j 1.41421356+0.j]\n",
      "[0.+0.j 0.+0.j 0.+0.j 0.+0.j 0.+0.j 0.+0.j 0.+0.j 0.+0.j 0.+0.j 0.+0.j\n",
      " 0.+0.j 0.+0.j 0.+0.j 0.+0.j 0.+0.j 0.+0.j 0.+0.j 0.+0.j 0.+0.j 0.+0.j\n",
      " 0.+0.j 0.+0.j 0.+0.j 0.+0.j 0.+0.j 0.+0.j 0.+0.j 0.+0.j 0.+0.j 0.+0.j\n",
      " 0.+0.j 0.+0.j 0.+0.j 0.+0.j 0.+0.j 0.+0.j]\n",
      "[0.+0.j 0.+0.j 0.+0.j 0.+0.j 0.+0.j 0.+0.j 0.+0.j 0.+0.j 0.+0.j 0.+0.j\n",
      " 0.+0.j 0.+0.j 0.+0.j 0.+0.j 0.+0.j 0.+0.j 0.+0.j 0.+0.j 0.+0.j 0.+0.j\n",
      " 0.+0.j 0.+0.j 0.+0.j 0.+0.j 0.+0.j 0.+0.j 0.+0.j 0.+0.j 0.+0.j 0.+0.j\n",
      " 0.+0.j 0.+0.j 0.+0.j 0.+0.j 0.+0.j 0.+0.j]\n",
      "[0.+0.j 0.+0.j 0.+0.j 0.+0.j 0.+0.j 0.+0.j 0.+0.j 0.+0.j 0.+0.j 0.+0.j\n",
      " 0.+0.j 0.+0.j 0.+0.j 0.+0.j 0.+0.j 0.+0.j 0.+0.j 0.+0.j 0.+0.j 0.+0.j\n",
      " 0.+0.j 0.+0.j 0.+0.j 0.+0.j 0.+0.j 0.+0.j 0.+0.j 0.+0.j 0.+0.j 0.+0.j\n",
      " 0.+0.j 0.+0.j 0.+0.j 0.+0.j 0.+0.j 0.+0.j]\n",
      "[0.+0.j 0.+0.j 0.+0.j 0.+0.j 0.+0.j 0.+0.j 0.+0.j 0.+0.j 0.+0.j 0.+0.j\n",
      " 0.+0.j 0.+0.j 0.+0.j 0.+0.j 0.+0.j 0.+0.j 0.+0.j 0.+0.j 0.+0.j 0.+0.j\n",
      " 0.+0.j 0.+0.j 0.+0.j 0.+0.j 0.+0.j 0.+0.j 0.+0.j 0.+0.j 0.+0.j 0.+0.j\n",
      " 0.+0.j 0.+0.j 0.+0.j 0.+0.j 0.+0.j 0.+0.j]\n"
     ]
    }
   ],
   "source": [
    "for example in lowering:\n",
    "    print(example)"
   ]
  },
  {
   "cell_type": "code",
   "execution_count": 6,
   "metadata": {},
   "outputs": [],
   "source": [
    "sigmay1ion=[\n",
    "    [0,            complex(0,-1)],\n",
    "    [complex(0,1), 0            ]\n",
    "    ]\n",
    "smallsy = _np.zeros((4,4), dtype=_np.complex_)"
   ]
  },
  {
   "cell_type": "code",
   "execution_count": 7,
   "metadata": {},
   "outputs": [],
   "source": [
    "#sy is the sum of the y pauli matricies for both ions\n",
    "sy = _np.zeros((36,36), dtype=_np.complex_)\n",
    "for jj in range(36):\n",
    "    for kk in range(36):\n",
    "        if int(jj/4)==int(kk/4): #check for same phonon numbers\n",
    "            #this block deals with ion 1\n",
    "            if jj%4==0 and kk%4==2:\n",
    "                sy[jj][kk]=complex(0,-1)\n",
    "            if jj%4==2 and kk%4==0:\n",
    "                sy[jj][kk]=complex(0,1)\n",
    "            if jj%4==1 and kk%4==3:\n",
    "                sy[jj][kk]=complex(0,-1)\n",
    "            if jj%4==3 and kk%4==1:\n",
    "                sy[jj][kk]=complex(0,1)\n",
    "            #this block with ion 2  \n",
    "            if jj%4==0 and kk%4==1:\n",
    "                sy[jj][kk]=complex(0,-1)\n",
    "            if jj%4==1 and kk%4==0:\n",
    "                sy[jj][kk]=complex(0,1)\n",
    "            if jj%4==2 and kk%4==3:\n",
    "                sy[jj][kk]=complex(0,-1)\n",
    "            if jj%4==3 and kk%4==2:\n",
    "                sy[jj][kk]=complex(0,1) "
   ]
  },
  {
   "cell_type": "code",
   "execution_count": 8,
   "metadata": {
    "scrolled": true
   },
   "outputs": [
    {
     "name": "stdout",
     "output_type": "stream",
     "text": [
      "[[0.+0.j 0.-1.j 0.-1.j ... 0.+0.j 0.+0.j 0.+0.j]\n",
      " [0.+1.j 0.+0.j 0.+0.j ... 0.+0.j 0.+0.j 0.+0.j]\n",
      " [0.+1.j 0.+0.j 0.+0.j ... 0.+0.j 0.+0.j 0.+0.j]\n",
      " ...\n",
      " [0.+0.j 0.+0.j 0.+0.j ... 0.+0.j 0.+0.j 0.-1.j]\n",
      " [0.+0.j 0.+0.j 0.+0.j ... 0.+0.j 0.+0.j 0.-1.j]\n",
      " [0.+0.j 0.+0.j 0.+0.j ... 0.+1.j 0.+1.j 0.+0.j]]\n"
     ]
    }
   ],
   "source": [
    "print(sy)"
   ]
  },
  {
   "cell_type": "code",
   "execution_count": 9,
   "metadata": {},
   "outputs": [],
   "source": [
    "#note that the matrix multiplication of matricies a and b is given by a.dot(b.T) where b.T is the tranpose of b\n",
    "def dhat(alpha2):\n",
    "    return scipy.linalg.expm(alpha2.dot(raising.T)-_np.conj(alpha2).T.dot(lowering.T))"
   ]
  },
  {
   "cell_type": "code",
   "execution_count": 10,
   "metadata": {},
   "outputs": [],
   "source": [
    "def alpha(t):\n",
    "    return eta*frabi/epsilon * (_np.exp(complex(0,1)*epsilon*t)-1)\n",
    "lambdaa = (eta**2)*(frabi**2)/epsilon\n",
    "chi = lambdaa/epsilon"
   ]
  },
  {
   "cell_type": "code",
   "execution_count": 11,
   "metadata": {},
   "outputs": [],
   "source": [
    "def uhat(t):\n",
    "    first= dhat(alpha(t)*sy)\n",
    "    innercoef = lambdaa*t-chi*_np.sin(epsilon*t)\n",
    "    sy2=sy.dot(sy.T)\n",
    "    second = scipy.linalg.expm(complex(0,1)*innercoef*sy2)\n",
    "    return first.dot(second.T)"
   ]
  },
  {
   "cell_type": "code",
   "execution_count": 12,
   "metadata": {},
   "outputs": [
    {
     "data": {
      "text/plain": [
       "<function scipy.linalg.matfuncs.expm(A)>"
      ]
     },
     "execution_count": 12,
     "metadata": {},
     "output_type": "execute_result"
    }
   ],
   "source": [
    "scipy.linalg.expm"
   ]
  },
  {
   "cell_type": "code",
   "execution_count": 13,
   "metadata": {},
   "outputs": [],
   "source": [
    "a=complex(0,1)"
   ]
  },
  {
   "cell_type": "code",
   "execution_count": 14,
   "metadata": {},
   "outputs": [
    {
     "name": "stdout",
     "output_type": "stream",
     "text": [
      "1j\n"
     ]
    }
   ],
   "source": [
    "print(a)"
   ]
  },
  {
   "cell_type": "code",
   "execution_count": 22,
   "metadata": {},
   "outputs": [],
   "source": [
    "allehat = _np.eye(36)\n",
    "ss = allehat[16]\n",
    "sd = allehat[17]\n",
    "ds = allehat[18]\n",
    "dd = allehat[19]"
   ]
  },
  {
   "cell_type": "code",
   "execution_count": 84,
   "metadata": {},
   "outputs": [],
   "source": [
    "points=2000\n",
    "ts = _np.linspace(0, 1000*t_gate, points)\n",
    "ssf = _np.zeros((points, 36), dtype=_np.complex_)\n",
    "for jj in range(points):\n",
    "    ssf[jj] = uhat(ts[jj]).dot(ss.T)"
   ]
  },
  {
   "cell_type": "code",
   "execution_count": 89,
   "metadata": {},
   "outputs": [
    {
     "data": {
      "text/plain": [
       "array([1.        , 0.99997558, 0.99990252, ..., 0.18738131, 0.18052602,\n",
       "       0.17364818])"
      ]
     },
     "execution_count": 89,
     "metadata": {},
     "output_type": "execute_result"
    }
   ],
   "source": [
    "_np.absolute(ssf.dot(ss.T))"
   ]
  },
  {
   "cell_type": "code",
   "execution_count": 90,
   "metadata": {},
   "outputs": [
    {
     "data": {
      "text/plain": [
       "<matplotlib.legend.Legend at 0x15490ec0fd0>"
      ]
     },
     "execution_count": 90,
     "metadata": {},
     "output_type": "execute_result"
    },
    {
     "data": {
      "image/png": "[encoded data removed]",
      "text/plain": [
       "<Figure size 432x288 with 1 Axes>"
      ]
     },
     "metadata": {
      "needs_background": "light"
     },
     "output_type": "display_data"
    }
   ],
   "source": [
    "twobright=_np.absolute(ssf.dot(ss.T))**2\n",
    "nobright=_np.absolute(ssf.dot(dd.T))**2\n",
    "_plt.plot(ts, twobright, label=\"gg\")\n",
    "#_plt.plot(ts, onebright, label=\"ge/eg\")\n",
    "_plt.plot(ts, nobright, label=\"ee\")\n",
    "_plt.ylabel(\"population\")\n",
    "_plt.xlabel(\"time(us)\")\n",
    "_plt.title(\"MS evolution\")\n",
    "_plt.legend()"
   ]
  },
  {
   "cell_type": "code",
   "execution_count": 97,
   "metadata": {
    "scrolled": false
   },
   "outputs": [
    {
     "data": {
      "text/plain": [
       "[<matplotlib.lines.Line2D at 0x15490bf1780>]"
      ]
     },
     "execution_count": 97,
     "metadata": {},
     "output_type": "execute_result"
    },
    {
     "data": {
      "image/png": "[encoded data removed]",
      "text/plain": [
       "<Figure size 432x288 with 1 Axes>"
      ]
     },
     "metadata": {
      "needs_background": "light"
     },
     "output_type": "display_data"
    }
   ],
   "source": [
    "normssf = _np.zeros(points)\n",
    "for jj in range(points):\n",
    "    normssf[jj]=scipy.linalg.norm(ssf[jj])\n",
    "_plt.plot(ts, normssf)"
   ]
  },
  {
   "cell_type": "code",
   "execution_count": 92,
   "metadata": {},
   "outputs": [
    {
     "ename": "ValueError",
     "evalue": "operands could not be broadcast together with shapes (2000,) (36,36) ",
     "output_type": "error",
     "traceback": [
      "\u001b[1;31m---------------------------------------------------------------------------\u001b[0m",
      "\u001b[1;31mValueError\u001b[0m                                Traceback (most recent call last)",
      "\u001b[1;32m<ipython-input-92-7abd7ffb9174>\u001b[0m in \u001b[0;36m<module>\u001b[1;34m()\u001b[0m\n\u001b[1;32m----> 1\u001b[1;33m \u001b[0m_np\u001b[0m\u001b[1;33m.\u001b[0m\u001b[0mshape\u001b[0m\u001b[1;33m(\u001b[0m\u001b[0muhat\u001b[0m\u001b[1;33m(\u001b[0m\u001b[0mts\u001b[0m\u001b[1;33m)\u001b[0m\u001b[1;33m)\u001b[0m\u001b[1;33m\u001b[0m\u001b[0m\n\u001b[0m",
      "\u001b[1;32m<ipython-input-11-65b905d87fbf>\u001b[0m in \u001b[0;36muhat\u001b[1;34m(t)\u001b[0m\n\u001b[0;32m      1\u001b[0m \u001b[1;32mdef\u001b[0m \u001b[0muhat\u001b[0m\u001b[1;33m(\u001b[0m\u001b[0mt\u001b[0m\u001b[1;33m)\u001b[0m\u001b[1;33m:\u001b[0m\u001b[1;33m\u001b[0m\u001b[0m\n\u001b[1;32m----> 2\u001b[1;33m     \u001b[0mfirst\u001b[0m\u001b[1;33m=\u001b[0m \u001b[0mdhat\u001b[0m\u001b[1;33m(\u001b[0m\u001b[0malpha\u001b[0m\u001b[1;33m(\u001b[0m\u001b[0mt\u001b[0m\u001b[1;33m)\u001b[0m\u001b[1;33m*\u001b[0m\u001b[0msy\u001b[0m\u001b[1;33m)\u001b[0m\u001b[1;33m\u001b[0m\u001b[0m\n\u001b[0m\u001b[0;32m      3\u001b[0m     \u001b[0minnercoef\u001b[0m \u001b[1;33m=\u001b[0m \u001b[0mlambdaa\u001b[0m\u001b[1;33m*\u001b[0m\u001b[0mt\u001b[0m\u001b[1;33m-\u001b[0m\u001b[0mchi\u001b[0m\u001b[1;33m*\u001b[0m\u001b[0m_np\u001b[0m\u001b[1;33m.\u001b[0m\u001b[0msin\u001b[0m\u001b[1;33m(\u001b[0m\u001b[0mepsilon\u001b[0m\u001b[1;33m*\u001b[0m\u001b[0mt\u001b[0m\u001b[1;33m)\u001b[0m\u001b[1;33m\u001b[0m\u001b[0m\n\u001b[0;32m      4\u001b[0m     \u001b[0msy2\u001b[0m\u001b[1;33m=\u001b[0m\u001b[0msy\u001b[0m\u001b[1;33m.\u001b[0m\u001b[0mdot\u001b[0m\u001b[1;33m(\u001b[0m\u001b[0msy\u001b[0m\u001b[1;33m.\u001b[0m\u001b[0mT\u001b[0m\u001b[1;33m)\u001b[0m\u001b[1;33m\u001b[0m\u001b[0m\n\u001b[0;32m      5\u001b[0m     \u001b[0msecond\u001b[0m \u001b[1;33m=\u001b[0m \u001b[0mscipy\u001b[0m\u001b[1;33m.\u001b[0m\u001b[0mlinalg\u001b[0m\u001b[1;33m.\u001b[0m\u001b[0mexpm\u001b[0m\u001b[1;33m(\u001b[0m\u001b[0mcomplex\u001b[0m\u001b[1;33m(\u001b[0m\u001b[1;36m0\u001b[0m\u001b[1;33m,\u001b[0m\u001b[1;36m1\u001b[0m\u001b[1;33m)\u001b[0m\u001b[1;33m*\u001b[0m\u001b[0minnercoef\u001b[0m\u001b[1;33m*\u001b[0m\u001b[0msy2\u001b[0m\u001b[1;33m)\u001b[0m\u001b[1;33m\u001b[0m\u001b[0m\n",
      "\u001b[1;31mValueError\u001b[0m: operands could not be broadcast together with shapes (2000,) (36,36) "
     ]
    }
   ],
   "source": [
    "_np.shape(uhat(ts))"
   ]
  },
  {
   "cell_type": "code",
   "execution_count": 93,
   "metadata": {},
   "outputs": [
    {
     "name": "stdout",
     "output_type": "stream",
     "text": [
      "[[0.        +0.j 1.        +0.j 0.        +0.j 1.        +0.j\n",
      "  0.        +0.j 0.        +0.j 0.        +0.j 0.        +0.j\n",
      "  0.        +0.j]\n",
      " [0.        +0.j 0.        +0.j 1.41421356+0.j 0.        +0.j\n",
      "  1.        +0.j 0.        +0.j 0.        +0.j 0.        +0.j\n",
      "  0.        +0.j]\n",
      " [0.        +0.j 0.        +0.j 0.        +0.j 0.        +0.j\n",
      "  0.        +0.j 1.        +0.j 0.        +0.j 0.        +0.j\n",
      "  0.        +0.j]\n",
      " [0.        +0.j 0.        +0.j 0.        +0.j 0.        +0.j\n",
      "  1.        +0.j 0.        +0.j 1.41421356+0.j 0.        +0.j\n",
      "  0.        +0.j]\n",
      " [0.        +0.j 0.        +0.j 0.        +0.j 0.        +0.j\n",
      "  0.        +0.j 1.41421356+0.j 0.        +0.j 1.41421356+0.j\n",
      "  0.        +0.j]\n",
      " [0.        +0.j 0.        +0.j 0.        +0.j 0.        +0.j\n",
      "  0.        +0.j 0.        +0.j 0.        +0.j 0.        +0.j\n",
      "  1.41421356+0.j]\n",
      " [0.        +0.j 0.        +0.j 0.        +0.j 0.        +0.j\n",
      "  0.        +0.j 0.        +0.j 0.        +0.j 1.        +0.j\n",
      "  0.        +0.j]\n",
      " [0.        +0.j 0.        +0.j 0.        +0.j 0.        +0.j\n",
      "  0.        +0.j 0.        +0.j 0.        +0.j 0.        +0.j\n",
      "  1.41421356+0.j]\n",
      " [0.        +0.j 0.        +0.j 0.        +0.j 0.        +0.j\n",
      "  0.        +0.j 0.        +0.j 0.        +0.j 0.        +0.j\n",
      "  0.        +0.j]]\n"
     ]
    }
   ],
   "source": [
    "print(smalllowering)"
   ]
  },
  {
   "cell_type": "code",
   "execution_count": 94,
   "metadata": {},
   "outputs": [
    {
     "data": {
      "text/plain": [
       "array([[ 0.        +0.j,  1.        +0.j,  0.        +0.j,\n",
       "         1.        +0.j,  0.        +0.j,  0.        +0.j,\n",
       "         0.        +0.j,  0.        +0.j,  0.        +0.j],\n",
       "       [-1.        +0.j,  0.        +0.j,  1.41421356+0.j,\n",
       "         0.        +0.j,  1.        +0.j,  0.        +0.j,\n",
       "         0.        +0.j,  0.        +0.j,  0.        +0.j],\n",
       "       [ 0.        +0.j, -1.41421356+0.j,  0.        +0.j,\n",
       "         0.        +0.j,  0.        +0.j,  1.        +0.j,\n",
       "         0.        +0.j,  0.        +0.j,  0.        +0.j],\n",
       "       [-1.        +0.j,  0.        +0.j,  0.        +0.j,\n",
       "         0.        +0.j,  1.        +0.j,  0.        +0.j,\n",
       "         1.41421356+0.j,  0.        +0.j,  0.        +0.j],\n",
       "       [ 0.        +0.j, -1.        +0.j,  0.        +0.j,\n",
       "        -1.        +0.j,  0.        +0.j,  1.41421356+0.j,\n",
       "         0.        +0.j,  1.41421356+0.j,  0.        +0.j],\n",
       "       [ 0.        +0.j,  0.        +0.j, -1.        +0.j,\n",
       "         0.        +0.j, -1.41421356+0.j,  0.        +0.j,\n",
       "         0.        +0.j,  0.        +0.j,  1.41421356+0.j],\n",
       "       [ 0.        +0.j,  0.        +0.j,  0.        +0.j,\n",
       "        -1.41421356+0.j,  0.        +0.j,  0.        +0.j,\n",
       "         0.        +0.j,  1.        +0.j,  0.        +0.j],\n",
       "       [ 0.        +0.j,  0.        +0.j,  0.        +0.j,\n",
       "         0.        +0.j, -1.41421356+0.j,  0.        +0.j,\n",
       "        -1.        +0.j,  0.        +0.j,  1.41421356+0.j],\n",
       "       [ 0.        +0.j,  0.        +0.j,  0.        +0.j,\n",
       "         0.        +0.j,  0.        +0.j, -1.41421356+0.j,\n",
       "         0.        +0.j, -1.41421356+0.j,  0.        +0.j]])"
      ]
     },
     "execution_count": 94,
     "metadata": {},
     "output_type": "execute_result"
    }
   ],
   "source": [
    "smalllowering-smalllowering.T"
   ]
  },
  {
   "cell_type": "code",
   "execution_count": 95,
   "metadata": {},
   "outputs": [],
   "source": [
    "heff= sy.dot(sy.T)"
   ]
  },
  {
   "cell_type": "code",
   "execution_count": 96,
   "metadata": {},
   "outputs": [
    {
     "ename": "ValueError",
     "evalue": "x and y must have same first dimension, but have shapes (2000,) and (200,)",
     "output_type": "error",
     "traceback": [
      "\u001b[1;31m---------------------------------------------------------------------------\u001b[0m",
      "\u001b[1;31mValueError\u001b[0m                                Traceback (most recent call last)",
      "\u001b[1;32m<ipython-input-96-ccf5e61441de>\u001b[0m in \u001b[0;36m<module>\u001b[1;34m()\u001b[0m\n\u001b[0;32m      7\u001b[0m     \u001b[0mnobrightphase\u001b[0m\u001b[1;33m[\u001b[0m\u001b[0mkk\u001b[0m\u001b[1;33m]\u001b[0m\u001b[1;33m=\u001b[0m\u001b[0m_np\u001b[0m\u001b[1;33m.\u001b[0m\u001b[0mangle\u001b[0m\u001b[1;33m(\u001b[0m\u001b[0mssf\u001b[0m\u001b[1;33m[\u001b[0m\u001b[0mkk\u001b[0m\u001b[1;33m]\u001b[0m\u001b[1;33m.\u001b[0m\u001b[0mdot\u001b[0m\u001b[1;33m(\u001b[0m\u001b[0mdd\u001b[0m\u001b[1;33m.\u001b[0m\u001b[0mT\u001b[0m\u001b[1;33m)\u001b[0m\u001b[1;33m)\u001b[0m\u001b[1;33m*\u001b[0m\u001b[1;36m2\u001b[0m\u001b[1;33m*\u001b[0m\u001b[0m_np\u001b[0m\u001b[1;33m.\u001b[0m\u001b[0mpi\u001b[0m\u001b[1;33m/\u001b[0m\u001b[1;36m180\u001b[0m\u001b[1;33m\u001b[0m\u001b[0m\n\u001b[0;32m      8\u001b[0m \u001b[0m_plt\u001b[0m\u001b[1;33m.\u001b[0m\u001b[0mplot\u001b[0m\u001b[1;33m(\u001b[0m\u001b[0mts\u001b[0m\u001b[1;33m,\u001b[0m \u001b[0mtwobright\u001b[0m\u001b[1;33m,\u001b[0m \u001b[0mlabel\u001b[0m\u001b[1;33m=\u001b[0m\u001b[1;34m\"gg\"\u001b[0m\u001b[1;33m)\u001b[0m\u001b[1;33m\u001b[0m\u001b[0m\n\u001b[1;32m----> 9\u001b[1;33m \u001b[0m_plt\u001b[0m\u001b[1;33m.\u001b[0m\u001b[0mplot\u001b[0m\u001b[1;33m(\u001b[0m\u001b[0mts\u001b[0m\u001b[1;33m,\u001b[0m \u001b[0monebright\u001b[0m\u001b[1;33m,\u001b[0m \u001b[0mlabel\u001b[0m\u001b[1;33m=\u001b[0m\u001b[1;34m\"ge/eg\"\u001b[0m\u001b[1;33m)\u001b[0m\u001b[1;33m\u001b[0m\u001b[0m\n\u001b[0m\u001b[0;32m     10\u001b[0m \u001b[0m_plt\u001b[0m\u001b[1;33m.\u001b[0m\u001b[0mplot\u001b[0m\u001b[1;33m(\u001b[0m\u001b[0mts\u001b[0m\u001b[1;33m,\u001b[0m \u001b[0mnobright\u001b[0m\u001b[1;33m,\u001b[0m \u001b[0mlabel\u001b[0m\u001b[1;33m=\u001b[0m\u001b[1;34m\"ee\"\u001b[0m\u001b[1;33m)\u001b[0m\u001b[1;33m\u001b[0m\u001b[0m\n\u001b[0;32m     11\u001b[0m \u001b[0m_plt\u001b[0m\u001b[1;33m.\u001b[0m\u001b[0mylabel\u001b[0m\u001b[1;33m(\u001b[0m\u001b[1;34m\"population\"\u001b[0m\u001b[1;33m)\u001b[0m\u001b[1;33m\u001b[0m\u001b[0m\n",
      "\u001b[1;32m~\\Anaconda3\\lib\\site-packages\\matplotlib\\pyplot.py\u001b[0m in \u001b[0;36mplot\u001b[1;34m(*args, **kwargs)\u001b[0m\n\u001b[0;32m   3361\u001b[0m                       mplDeprecation)\n\u001b[0;32m   3362\u001b[0m     \u001b[1;32mtry\u001b[0m\u001b[1;33m:\u001b[0m\u001b[1;33m\u001b[0m\u001b[0m\n\u001b[1;32m-> 3363\u001b[1;33m         \u001b[0mret\u001b[0m \u001b[1;33m=\u001b[0m \u001b[0max\u001b[0m\u001b[1;33m.\u001b[0m\u001b[0mplot\u001b[0m\u001b[1;33m(\u001b[0m\u001b[1;33m*\u001b[0m\u001b[0margs\u001b[0m\u001b[1;33m,\u001b[0m \u001b[1;33m**\u001b[0m\u001b[0mkwargs\u001b[0m\u001b[1;33m)\u001b[0m\u001b[1;33m\u001b[0m\u001b[0m\n\u001b[0m\u001b[0;32m   3364\u001b[0m     \u001b[1;32mfinally\u001b[0m\u001b[1;33m:\u001b[0m\u001b[1;33m\u001b[0m\u001b[0m\n\u001b[0;32m   3365\u001b[0m         \u001b[0max\u001b[0m\u001b[1;33m.\u001b[0m\u001b[0m_hold\u001b[0m \u001b[1;33m=\u001b[0m \u001b[0mwashold\u001b[0m\u001b[1;33m\u001b[0m\u001b[0m\n",
      "\u001b[1;32m~\\Anaconda3\\lib\\site-packages\\matplotlib\\__init__.py\u001b[0m in \u001b[0;36minner\u001b[1;34m(ax, *args, **kwargs)\u001b[0m\n\u001b[0;32m   1865\u001b[0m                         \u001b[1;34m\"the Matplotlib list!)\"\u001b[0m \u001b[1;33m%\u001b[0m \u001b[1;33m(\u001b[0m\u001b[0mlabel_namer\u001b[0m\u001b[1;33m,\u001b[0m \u001b[0mfunc\u001b[0m\u001b[1;33m.\u001b[0m\u001b[0m__name__\u001b[0m\u001b[1;33m)\u001b[0m\u001b[1;33m,\u001b[0m\u001b[1;33m\u001b[0m\u001b[0m\n\u001b[0;32m   1866\u001b[0m                         RuntimeWarning, stacklevel=2)\n\u001b[1;32m-> 1867\u001b[1;33m             \u001b[1;32mreturn\u001b[0m \u001b[0mfunc\u001b[0m\u001b[1;33m(\u001b[0m\u001b[0max\u001b[0m\u001b[1;33m,\u001b[0m \u001b[1;33m*\u001b[0m\u001b[0margs\u001b[0m\u001b[1;33m,\u001b[0m \u001b[1;33m**\u001b[0m\u001b[0mkwargs\u001b[0m\u001b[1;33m)\u001b[0m\u001b[1;33m\u001b[0m\u001b[0m\n\u001b[0m\u001b[0;32m   1868\u001b[0m \u001b[1;33m\u001b[0m\u001b[0m\n\u001b[0;32m   1869\u001b[0m         inner.__doc__ = _add_data_doc(inner.__doc__,\n",
      "\u001b[1;32m~\\Anaconda3\\lib\\site-packages\\matplotlib\\axes\\_axes.py\u001b[0m in \u001b[0;36mplot\u001b[1;34m(self, *args, **kwargs)\u001b[0m\n\u001b[0;32m   1526\u001b[0m         \u001b[0mkwargs\u001b[0m \u001b[1;33m=\u001b[0m \u001b[0mcbook\u001b[0m\u001b[1;33m.\u001b[0m\u001b[0mnormalize_kwargs\u001b[0m\u001b[1;33m(\u001b[0m\u001b[0mkwargs\u001b[0m\u001b[1;33m,\u001b[0m \u001b[0m_alias_map\u001b[0m\u001b[1;33m)\u001b[0m\u001b[1;33m\u001b[0m\u001b[0m\n\u001b[0;32m   1527\u001b[0m \u001b[1;33m\u001b[0m\u001b[0m\n\u001b[1;32m-> 1528\u001b[1;33m         \u001b[1;32mfor\u001b[0m \u001b[0mline\u001b[0m \u001b[1;32min\u001b[0m \u001b[0mself\u001b[0m\u001b[1;33m.\u001b[0m\u001b[0m_get_lines\u001b[0m\u001b[1;33m(\u001b[0m\u001b[1;33m*\u001b[0m\u001b[0margs\u001b[0m\u001b[1;33m,\u001b[0m \u001b[1;33m**\u001b[0m\u001b[0mkwargs\u001b[0m\u001b[1;33m)\u001b[0m\u001b[1;33m:\u001b[0m\u001b[1;33m\u001b[0m\u001b[0m\n\u001b[0m\u001b[0;32m   1529\u001b[0m             \u001b[0mself\u001b[0m\u001b[1;33m.\u001b[0m\u001b[0madd_line\u001b[0m\u001b[1;33m(\u001b[0m\u001b[0mline\u001b[0m\u001b[1;33m)\u001b[0m\u001b[1;33m\u001b[0m\u001b[0m\n\u001b[0;32m   1530\u001b[0m             \u001b[0mlines\u001b[0m\u001b[1;33m.\u001b[0m\u001b[0mappend\u001b[0m\u001b[1;33m(\u001b[0m\u001b[0mline\u001b[0m\u001b[1;33m)\u001b[0m\u001b[1;33m\u001b[0m\u001b[0m\n",
      "\u001b[1;32m~\\Anaconda3\\lib\\site-packages\\matplotlib\\axes\\_base.py\u001b[0m in \u001b[0;36m_grab_next_args\u001b[1;34m(self, *args, **kwargs)\u001b[0m\n\u001b[0;32m    404\u001b[0m                 \u001b[0mthis\u001b[0m \u001b[1;33m+=\u001b[0m \u001b[0margs\u001b[0m\u001b[1;33m[\u001b[0m\u001b[1;36m0\u001b[0m\u001b[1;33m]\u001b[0m\u001b[1;33m,\u001b[0m\u001b[1;33m\u001b[0m\u001b[0m\n\u001b[0;32m    405\u001b[0m                 \u001b[0margs\u001b[0m \u001b[1;33m=\u001b[0m \u001b[0margs\u001b[0m\u001b[1;33m[\u001b[0m\u001b[1;36m1\u001b[0m\u001b[1;33m:\u001b[0m\u001b[1;33m]\u001b[0m\u001b[1;33m\u001b[0m\u001b[0m\n\u001b[1;32m--> 406\u001b[1;33m             \u001b[1;32mfor\u001b[0m \u001b[0mseg\u001b[0m \u001b[1;32min\u001b[0m \u001b[0mself\u001b[0m\u001b[1;33m.\u001b[0m\u001b[0m_plot_args\u001b[0m\u001b[1;33m(\u001b[0m\u001b[0mthis\u001b[0m\u001b[1;33m,\u001b[0m \u001b[0mkwargs\u001b[0m\u001b[1;33m)\u001b[0m\u001b[1;33m:\u001b[0m\u001b[1;33m\u001b[0m\u001b[0m\n\u001b[0m\u001b[0;32m    407\u001b[0m                 \u001b[1;32myield\u001b[0m \u001b[0mseg\u001b[0m\u001b[1;33m\u001b[0m\u001b[0m\n\u001b[0;32m    408\u001b[0m \u001b[1;33m\u001b[0m\u001b[0m\n",
      "\u001b[1;32m~\\Anaconda3\\lib\\site-packages\\matplotlib\\axes\\_base.py\u001b[0m in \u001b[0;36m_plot_args\u001b[1;34m(self, tup, kwargs)\u001b[0m\n\u001b[0;32m    381\u001b[0m             \u001b[0mx\u001b[0m\u001b[1;33m,\u001b[0m \u001b[0my\u001b[0m \u001b[1;33m=\u001b[0m \u001b[0mindex_of\u001b[0m\u001b[1;33m(\u001b[0m\u001b[0mtup\u001b[0m\u001b[1;33m[\u001b[0m\u001b[1;33m-\u001b[0m\u001b[1;36m1\u001b[0m\u001b[1;33m]\u001b[0m\u001b[1;33m)\u001b[0m\u001b[1;33m\u001b[0m\u001b[0m\n\u001b[0;32m    382\u001b[0m \u001b[1;33m\u001b[0m\u001b[0m\n\u001b[1;32m--> 383\u001b[1;33m         \u001b[0mx\u001b[0m\u001b[1;33m,\u001b[0m \u001b[0my\u001b[0m \u001b[1;33m=\u001b[0m \u001b[0mself\u001b[0m\u001b[1;33m.\u001b[0m\u001b[0m_xy_from_xy\u001b[0m\u001b[1;33m(\u001b[0m\u001b[0mx\u001b[0m\u001b[1;33m,\u001b[0m \u001b[0my\u001b[0m\u001b[1;33m)\u001b[0m\u001b[1;33m\u001b[0m\u001b[0m\n\u001b[0m\u001b[0;32m    384\u001b[0m \u001b[1;33m\u001b[0m\u001b[0m\n\u001b[0;32m    385\u001b[0m         \u001b[1;32mif\u001b[0m \u001b[0mself\u001b[0m\u001b[1;33m.\u001b[0m\u001b[0mcommand\u001b[0m \u001b[1;33m==\u001b[0m \u001b[1;34m'plot'\u001b[0m\u001b[1;33m:\u001b[0m\u001b[1;33m\u001b[0m\u001b[0m\n",
      "\u001b[1;32m~\\Anaconda3\\lib\\site-packages\\matplotlib\\axes\\_base.py\u001b[0m in \u001b[0;36m_xy_from_xy\u001b[1;34m(self, x, y)\u001b[0m\n\u001b[0;32m    240\u001b[0m         \u001b[1;32mif\u001b[0m \u001b[0mx\u001b[0m\u001b[1;33m.\u001b[0m\u001b[0mshape\u001b[0m\u001b[1;33m[\u001b[0m\u001b[1;36m0\u001b[0m\u001b[1;33m]\u001b[0m \u001b[1;33m!=\u001b[0m \u001b[0my\u001b[0m\u001b[1;33m.\u001b[0m\u001b[0mshape\u001b[0m\u001b[1;33m[\u001b[0m\u001b[1;36m0\u001b[0m\u001b[1;33m]\u001b[0m\u001b[1;33m:\u001b[0m\u001b[1;33m\u001b[0m\u001b[0m\n\u001b[0;32m    241\u001b[0m             raise ValueError(\"x and y must have same first dimension, but \"\n\u001b[1;32m--> 242\u001b[1;33m                              \"have shapes {} and {}\".format(x.shape, y.shape))\n\u001b[0m\u001b[0;32m    243\u001b[0m         \u001b[1;32mif\u001b[0m \u001b[0mx\u001b[0m\u001b[1;33m.\u001b[0m\u001b[0mndim\u001b[0m \u001b[1;33m>\u001b[0m \u001b[1;36m2\u001b[0m \u001b[1;32mor\u001b[0m \u001b[0my\u001b[0m\u001b[1;33m.\u001b[0m\u001b[0mndim\u001b[0m \u001b[1;33m>\u001b[0m \u001b[1;36m2\u001b[0m\u001b[1;33m:\u001b[0m\u001b[1;33m\u001b[0m\u001b[0m\n\u001b[0;32m    244\u001b[0m             raise ValueError(\"x and y can be no greater than 2-D, but have \"\n",
      "\u001b[1;31mValueError\u001b[0m: x and y must have same first dimension, but have shapes (2000,) and (200,)"
     ]
    },
    {
     "data": {
      "image/png": "[encoded data removed]",
      "text/plain": [
       "<Figure size 432x288 with 1 Axes>"
      ]
     },
     "metadata": {
      "needs_background": "light"
     },
     "output_type": "display_data"
    }
   ],
   "source": [
    "nobrightphase = _np.zeros(points)\n",
    "onebrightphase = _np.zeros(points)\n",
    "twobrightphase = _np.zeros(points)\n",
    "for kk in range(points):\n",
    "    twobrightphase[kk]=_np.angle(ssf[kk].dot(ss.T))*2*_np.pi/180\n",
    "    onebrightphase[kk]=_np.angle(ssf[kk].dot(sd.T))*2*_np.pi/180\n",
    "    nobrightphase[kk]=_np.angle(ssf[kk].dot(dd.T))*2*_np.pi/180\n",
    "_plt.plot(ts, twobright, label=\"gg\")\n",
    "_plt.plot(ts, onebright, label=\"ge/eg\")\n",
    "_plt.plot(ts, nobright, label=\"ee\")\n",
    "_plt.ylabel(\"population\")\n",
    "_plt.xlabel(\"time(us)\")\n",
    "_plt.title(\"MS evolution\")\n",
    "_plt.legend()"
   ]
  },
  {
   "cell_type": "code",
   "execution_count": null,
   "metadata": {},
   "outputs": [],
   "source": [
    "_plt.plot(_np.real(ssf.dot(ss.T)), _np.imag(ssf.dot(ss.T)))\n",
    "rs = _np.linspace(0.99,1,10)\n",
    "thetas=_np.linspace(-0.08, 0, 100)\n",
    "for r in rs:\n",
    "    _plt.plot(r*_np.cos(thetas), r*_np.sin(thetas), linestyle=\"dashed\")"
   ]
  },
  {
   "cell_type": "code",
   "execution_count": null,
   "metadata": {},
   "outputs": [],
   "source": [
    "_plt.plot(ts, _np.absolute(ssf.dot(ss.T))**2)"
   ]
  },
  {
   "cell_type": "code",
   "execution_count": null,
   "metadata": {},
   "outputs": [],
   "source": []
  },
  {
   "cell_type": "code",
   "execution_count": null,
   "metadata": {},
   "outputs": [],
   "source": []
  }
 ],
 "metadata": {
  "kernelspec": {
   "display_name": "Python 3",
   "language": "python",
   "name": "python3"
  },
  "language_info": {
   "codemirror_mode": {
    "name": "ipython",
    "version": 3
   },
   "file_extension": ".py",
   "mimetype": "text/x-python",
   "name": "python",
   "nbconvert_exporter": "python",
   "pygments_lexer": "ipython3",
   "version": "3.7.0"
  }
 },
 "nbformat": 4,
 "nbformat_minor": 2
}
